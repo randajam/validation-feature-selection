{
 "cells": [
  {
   "cell_type": "markdown",
   "id": "ee51bc01",
   "metadata": {},
   "source": [
    "# Data separation"
   ]
  },
  {
   "cell_type": "markdown",
   "id": "387c8e5a",
   "metadata": {},
   "source": [
    "## Include libraies"
   ]
  },
  {
   "cell_type": "code",
   "execution_count": 14,
   "id": "2469158f",
   "metadata": {},
   "outputs": [],
   "source": [
    "import pandas as pd\n",
    "from sklearn.model_selection import train_test_split\n",
    "\n",
    "import sys\n",
    "sys.path.append('../')\n",
    "from src.data_split import *"
   ]
  },
  {
   "cell_type": "markdown",
   "id": "5e67c12e",
   "metadata": {},
   "source": [
    "## Get the dataframe"
   ]
  },
  {
   "cell_type": "code",
   "execution_count": 15,
   "id": "55957e55",
   "metadata": {},
   "outputs": [],
   "source": [
    "data = pd.read_json('../datasets/train.json')"
   ]
  },
  {
   "cell_type": "code",
   "execution_count": 16,
   "id": "795efe5e",
   "metadata": {},
   "outputs": [],
   "source": [
    "X = data.drop('price', axis=1)\n",
    "y = data['price']"
   ]
  },
  {
   "cell_type": "markdown",
   "id": "25922516",
   "metadata": {},
   "source": [
    "## Data splitting"
   ]
  },
  {
   "cell_type": "markdown",
   "id": "740d091c",
   "metadata": {},
   "source": [
    "### Random split"
   ]
  },
  {
   "cell_type": "code",
   "execution_count": 17,
   "id": "3f4910a6",
   "metadata": {},
   "outputs": [],
   "source": [
    "X_train, X_test, y_train, y_test = random_train_test_split(X, y, test_size=0.2)"
   ]
  },
  {
   "cell_type": "code",
   "execution_count": 18,
   "id": "3f3d0faa",
   "metadata": {},
   "outputs": [
    {
     "data": {
      "text/plain": [
       "(0.7999878424379965, 0.20001215756200358)"
      ]
     },
     "execution_count": 18,
     "metadata": {},
     "output_type": "execute_result"
    }
   ],
   "source": [
    "X_train.shape[0] / (X_test.shape[0] + X_train.shape[0]), X_test.shape[0] / (X_test.shape[0] + X_train.shape[0])"
   ]
  },
  {
   "cell_type": "markdown",
   "id": "b4c29816",
   "metadata": {},
   "source": [
    "### 3-part split (train/test/validation)"
   ]
  },
  {
   "cell_type": "code",
   "execution_count": 19,
   "id": "cb5962b0",
   "metadata": {},
   "outputs": [],
   "source": [
    "X_train, X_test, X_val, y_train, y_test, y_val = random_val_split(X, y, val_size=0.2, test_size=0.2)"
   ]
  },
  {
   "cell_type": "code",
   "execution_count": 20,
   "id": "7767a276",
   "metadata": {},
   "outputs": [
    {
     "data": {
      "text/plain": [
       "(0.5999959474793322, 0.2000081048771098, 0.1999918949586643)"
      ]
     },
     "execution_count": 20,
     "metadata": {},
     "output_type": "execute_result"
    }
   ],
   "source": [
    "X_train.shape[0] / (X_test.shape[0] + X_train.shape[0] + X_val.shape[0]), \\\n",
    "X_val.shape[0] / (X_val.shape[0] + X_train.shape[0] + X_val.shape[0]), \\\n",
    "X_test.shape[0] / (X_test.shape[0] + X_train.shape[0] + X_val.shape[0])"
   ]
  },
  {
   "cell_type": "markdown",
   "id": "e397bc3a",
   "metadata": {},
   "source": [
    "### Date-based split"
   ]
  },
  {
   "cell_type": "code",
   "execution_count": 21,
   "id": "bf5b7f2d",
   "metadata": {},
   "outputs": [],
   "source": [
    "X_train, X_test, y_train, y_test = date_based_split(X, y, \"created\", \"2016-05-05\")"
   ]
  },
  {
   "cell_type": "code",
   "execution_count": 22,
   "id": "74e24123",
   "metadata": {},
   "outputs": [
    {
     "data": {
      "text/plain": [
       "(0.36616550494407524, 0.6338344950559248)"
      ]
     },
     "execution_count": 22,
     "metadata": {},
     "output_type": "execute_result"
    }
   ],
   "source": [
    "X_train.shape[0] / (X_test.shape[0] + X_train.shape[0]), X_test.shape[0] / (X_test.shape[0] + X_train.shape[0])"
   ]
  },
  {
   "cell_type": "markdown",
   "id": "b0781ddd",
   "metadata": {},
   "source": [
    "### Date-based 3-part split"
   ]
  },
  {
   "cell_type": "code",
   "execution_count": 24,
   "id": "5e3cbf80",
   "metadata": {},
   "outputs": [],
   "source": [
    "X_train, X_val, X_test, y_train, y_val, y_test = date_based_val_split(X, y, \"created\", \"2016-05-05\", \"2016-06-01\")"
   ]
  },
  {
   "cell_type": "code",
   "execution_count": 25,
   "id": "abd81af3",
   "metadata": {},
   "outputs": [
    {
     "data": {
      "text/plain": [
       "(0.36616550494407524, 0.43892821659215103, 0.3473820716485654)"
      ]
     },
     "execution_count": 25,
     "metadata": {},
     "output_type": "execute_result"
    }
   ],
   "source": [
    "X_train.shape[0] / (X_test.shape[0] + X_train.shape[0] + X_val.shape[0]), \\\n",
    "X_val.shape[0] / (X_val.shape[0] + X_train.shape[0]), \\\n",
    "X_test.shape[0] / (X_test.shape[0] + X_train.shape[0] + X_val.shape[0])"
   ]
  },
  {
   "cell_type": "code",
   "execution_count": 26,
   "id": "f4c1273c",
   "metadata": {},
   "outputs": [
    {
     "data": {
      "text/plain": [
       "(Timestamp('2016-05-04 23:33:03'),\n",
       " Timestamp('2016-05-05 01:01:12'),\n",
       " Timestamp('2016-05-31 23:10:48'),\n",
       " Timestamp('2016-06-01 01:10:37'))"
      ]
     },
     "execution_count": 26,
     "metadata": {},
     "output_type": "execute_result"
    }
   ],
   "source": [
    "X_train['created'].max(), X_val['created'].min(), X_val['created'].max(), X_test['created'].min()"
   ]
  },
  {
   "cell_type": "markdown",
   "id": "5d26dff6",
   "metadata": {},
   "source": [
    "### Determenistic\n",
    "`Determenistic with random_state param in random_train_test_split() and random_val_split(). Set random seed in functions.`"
   ]
  }
 ],
 "metadata": {
  "kernelspec": {
   "display_name": "ML_3.10",
   "language": "python",
   "name": "python3"
  },
  "language_info": {
   "codemirror_mode": {
    "name": "ipython",
    "version": 3
   },
   "file_extension": ".py",
   "mimetype": "text/x-python",
   "name": "python",
   "nbconvert_exporter": "python",
   "pygments_lexer": "ipython3",
   "version": "3.10.18"
  }
 },
 "nbformat": 4,
 "nbformat_minor": 5
}
